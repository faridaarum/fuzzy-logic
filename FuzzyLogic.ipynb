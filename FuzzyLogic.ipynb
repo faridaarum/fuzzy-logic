{
  "nbformat": 4,
  "nbformat_minor": 0,
  "metadata": {
    "colab": {
      "provenance": [],
      "collapsed_sections": [],
      "include_colab_link": true
    },
    "kernelspec": {
      "name": "python3",
      "display_name": "Python 3"
    },
    "language_info": {
      "name": "python"
    }
  },
  "cells": [
    {
      "cell_type": "markdown",
      "metadata": {
        "id": "view-in-github",
        "colab_type": "text"
      },
      "source": [
        "<a href=\"https://colab.research.google.com/github/faridaarum/fuzzy-logic/blob/main/FuzzyLogic.ipynb\" target=\"_parent\"><img src=\"https://colab.research.google.com/assets/colab-badge.svg\" alt=\"Open In Colab\"/></a>"
      ]
    },
    {
      "cell_type": "code",
      "execution_count": null,
      "metadata": {
        "id": "mMsJCCBYKPyq"
      },
      "outputs": [],
      "source": [
        "import numpy as np \n",
        "import pandas as pd \n",
        "import matplotlib.pyplot as plt"
      ]
    },
    {
      "cell_type": "code",
      "source": [
        "data = pd.read_excel(\"https://github.com/HarvianKhusnan/Tugas-Fuzzy-logic/blob/dc01595f4ddf60a5b3d9678639cb4449de60c8b1/bengkel.xlsx?raw=true\")\n",
        "data.sample(10)"
      ],
      "metadata": {
        "id": "Id_e7V2KKuMq",
        "colab": {
          "base_uri": "https://localhost:8080/",
          "height": 363
        },
        "outputId": "1a4464cd-f2d5-4a99-aed6-5c13341091e5"
      },
      "execution_count": null,
      "outputs": [
        {
          "output_type": "execute_result",
          "data": {
            "text/plain": [
              "    id  servis  harga\n",
              "38  39      52      7\n",
              "54  55      50      7\n",
              "66  67      27      4\n",
              "21  22      79      9\n",
              "88  89      48      2\n",
              "20  21      48      2\n",
              "75  76      45      5\n",
              "97  98      27     10\n",
              "36  37      31      4\n",
              "90  91      98      3"
            ],
            "text/html": [
              "\n",
              "  <div id=\"df-458dca5d-acc8-4ac5-85c7-004116001c96\">\n",
              "    <div class=\"colab-df-container\">\n",
              "      <div>\n",
              "<style scoped>\n",
              "    .dataframe tbody tr th:only-of-type {\n",
              "        vertical-align: middle;\n",
              "    }\n",
              "\n",
              "    .dataframe tbody tr th {\n",
              "        vertical-align: top;\n",
              "    }\n",
              "\n",
              "    .dataframe thead th {\n",
              "        text-align: right;\n",
              "    }\n",
              "</style>\n",
              "<table border=\"1\" class=\"dataframe\">\n",
              "  <thead>\n",
              "    <tr style=\"text-align: right;\">\n",
              "      <th></th>\n",
              "      <th>id</th>\n",
              "      <th>servis</th>\n",
              "      <th>harga</th>\n",
              "    </tr>\n",
              "  </thead>\n",
              "  <tbody>\n",
              "    <tr>\n",
              "      <th>38</th>\n",
              "      <td>39</td>\n",
              "      <td>52</td>\n",
              "      <td>7</td>\n",
              "    </tr>\n",
              "    <tr>\n",
              "      <th>54</th>\n",
              "      <td>55</td>\n",
              "      <td>50</td>\n",
              "      <td>7</td>\n",
              "    </tr>\n",
              "    <tr>\n",
              "      <th>66</th>\n",
              "      <td>67</td>\n",
              "      <td>27</td>\n",
              "      <td>4</td>\n",
              "    </tr>\n",
              "    <tr>\n",
              "      <th>21</th>\n",
              "      <td>22</td>\n",
              "      <td>79</td>\n",
              "      <td>9</td>\n",
              "    </tr>\n",
              "    <tr>\n",
              "      <th>88</th>\n",
              "      <td>89</td>\n",
              "      <td>48</td>\n",
              "      <td>2</td>\n",
              "    </tr>\n",
              "    <tr>\n",
              "      <th>20</th>\n",
              "      <td>21</td>\n",
              "      <td>48</td>\n",
              "      <td>2</td>\n",
              "    </tr>\n",
              "    <tr>\n",
              "      <th>75</th>\n",
              "      <td>76</td>\n",
              "      <td>45</td>\n",
              "      <td>5</td>\n",
              "    </tr>\n",
              "    <tr>\n",
              "      <th>97</th>\n",
              "      <td>98</td>\n",
              "      <td>27</td>\n",
              "      <td>10</td>\n",
              "    </tr>\n",
              "    <tr>\n",
              "      <th>36</th>\n",
              "      <td>37</td>\n",
              "      <td>31</td>\n",
              "      <td>4</td>\n",
              "    </tr>\n",
              "    <tr>\n",
              "      <th>90</th>\n",
              "      <td>91</td>\n",
              "      <td>98</td>\n",
              "      <td>3</td>\n",
              "    </tr>\n",
              "  </tbody>\n",
              "</table>\n",
              "</div>\n",
              "      <button class=\"colab-df-convert\" onclick=\"convertToInteractive('df-458dca5d-acc8-4ac5-85c7-004116001c96')\"\n",
              "              title=\"Convert this dataframe to an interactive table.\"\n",
              "              style=\"display:none;\">\n",
              "        \n",
              "  <svg xmlns=\"http://www.w3.org/2000/svg\" height=\"24px\"viewBox=\"0 0 24 24\"\n",
              "       width=\"24px\">\n",
              "    <path d=\"M0 0h24v24H0V0z\" fill=\"none\"/>\n",
              "    <path d=\"M18.56 5.44l.94 2.06.94-2.06 2.06-.94-2.06-.94-.94-2.06-.94 2.06-2.06.94zm-11 1L8.5 8.5l.94-2.06 2.06-.94-2.06-.94L8.5 2.5l-.94 2.06-2.06.94zm10 10l.94 2.06.94-2.06 2.06-.94-2.06-.94-.94-2.06-.94 2.06-2.06.94z\"/><path d=\"M17.41 7.96l-1.37-1.37c-.4-.4-.92-.59-1.43-.59-.52 0-1.04.2-1.43.59L10.3 9.45l-7.72 7.72c-.78.78-.78 2.05 0 2.83L4 21.41c.39.39.9.59 1.41.59.51 0 1.02-.2 1.41-.59l7.78-7.78 2.81-2.81c.8-.78.8-2.07 0-2.86zM5.41 20L4 18.59l7.72-7.72 1.47 1.35L5.41 20z\"/>\n",
              "  </svg>\n",
              "      </button>\n",
              "      \n",
              "  <style>\n",
              "    .colab-df-container {\n",
              "      display:flex;\n",
              "      flex-wrap:wrap;\n",
              "      gap: 12px;\n",
              "    }\n",
              "\n",
              "    .colab-df-convert {\n",
              "      background-color: #E8F0FE;\n",
              "      border: none;\n",
              "      border-radius: 50%;\n",
              "      cursor: pointer;\n",
              "      display: none;\n",
              "      fill: #1967D2;\n",
              "      height: 32px;\n",
              "      padding: 0 0 0 0;\n",
              "      width: 32px;\n",
              "    }\n",
              "\n",
              "    .colab-df-convert:hover {\n",
              "      background-color: #E2EBFA;\n",
              "      box-shadow: 0px 1px 2px rgba(60, 64, 67, 0.3), 0px 1px 3px 1px rgba(60, 64, 67, 0.15);\n",
              "      fill: #174EA6;\n",
              "    }\n",
              "\n",
              "    [theme=dark] .colab-df-convert {\n",
              "      background-color: #3B4455;\n",
              "      fill: #D2E3FC;\n",
              "    }\n",
              "\n",
              "    [theme=dark] .colab-df-convert:hover {\n",
              "      background-color: #434B5C;\n",
              "      box-shadow: 0px 1px 3px 1px rgba(0, 0, 0, 0.15);\n",
              "      filter: drop-shadow(0px 1px 2px rgba(0, 0, 0, 0.3));\n",
              "      fill: #FFFFFF;\n",
              "    }\n",
              "  </style>\n",
              "\n",
              "      <script>\n",
              "        const buttonEl =\n",
              "          document.querySelector('#df-458dca5d-acc8-4ac5-85c7-004116001c96 button.colab-df-convert');\n",
              "        buttonEl.style.display =\n",
              "          google.colab.kernel.accessAllowed ? 'block' : 'none';\n",
              "\n",
              "        async function convertToInteractive(key) {\n",
              "          const element = document.querySelector('#df-458dca5d-acc8-4ac5-85c7-004116001c96');\n",
              "          const dataTable =\n",
              "            await google.colab.kernel.invokeFunction('convertToInteractive',\n",
              "                                                     [key], {});\n",
              "          if (!dataTable) return;\n",
              "\n",
              "          const docLinkHtml = 'Like what you see? Visit the ' +\n",
              "            '<a target=\"_blank\" href=https://colab.research.google.com/notebooks/data_table.ipynb>data table notebook</a>'\n",
              "            + ' to learn more about interactive tables.';\n",
              "          element.innerHTML = '';\n",
              "          dataTable['output_type'] = 'display_data';\n",
              "          await google.colab.output.renderOutput(dataTable, element);\n",
              "          const docLink = document.createElement('div');\n",
              "          docLink.innerHTML = docLinkHtml;\n",
              "          element.appendChild(docLink);\n",
              "        }\n",
              "      </script>\n",
              "    </div>\n",
              "  </div>\n",
              "  "
            ]
          },
          "metadata": {},
          "execution_count": 2
        }
      ]
    },
    {
      "cell_type": "markdown",
      "source": [
        "**FUZIFIKASI**\n",
        "**Membership Function**\n",
        "\n",
        "**Fungsi Keanggotaan Kualitas Servis**\n",
        "\n",
        "Misalkan nilai kualitas servis adalah x\n",
        "\n",
        "\n",
        "*   x  ≤ 20 diartikan sangat jelek \n",
        "*   30 ≤ x ≤ 45 diartikan Jelek \n",
        "*   60 ≤ x ≤ 70 diartikan baik\n",
        "*   x ≥ 80 diartikan sangat baik\n",
        "\n",
        "\n"
      ],
      "metadata": {
        "id": "lEDRjsWqb5Fo"
      }
    },
    {
      "cell_type": "code",
      "source": [
        "def fuzzy_kualitas(x) : \n",
        "  kualitas = {'Sangat Jelek' : 0, 'Jelek' : 0, 'Baik' : 0, 'Sangat Baik' : 0 }\n",
        "\n",
        "  a,b,c,d,e,f = 20,30,45,60,70,80 \n",
        "\n",
        "  #garis datar \n",
        "  if x <= a:\n",
        "        kualitas['Sangat Jelek'] = 1\n",
        "  if b <= x <= c:\n",
        "        kualitas['Jelek'] = 1\n",
        "  if d <= x <= e:\n",
        "        kualitas['Baik'] = 1\n",
        "  if x >= f:\n",
        "        kualitas['Sangat Baik'] = 1\n",
        "  # Garis Miring (Gradient)   \n",
        "  if a < x <= b:\n",
        "       kualitas['Sangat Jelek'] = -(x - b) / (b - a)\n",
        "  if a < x < b:\n",
        "       kualitas['Jelek'] = (x - a) / (b - a)\n",
        "  if c < x <= d:\n",
        "       kualitas['Jelek'] = -(x - d) / (d - c)\n",
        "  if c < x < d:\n",
        "       kualitas['Baik'] = (x - c) / (d - c)\n",
        "  if e < x < f:\n",
        "       kualitas['Baik'] = -(x - f) / (f - e)\n",
        "  if e < x <= f:\n",
        "      kualitas['Sangat Baik'] = (x - e) / (f - e)\n",
        "        \n",
        "  return kualitas"
      ],
      "metadata": {
        "id": "7F4nzfKCb3Kp"
      },
      "execution_count": null,
      "outputs": []
    },
    {
      "cell_type": "code",
      "source": [
        "plt.figure(figsize=(12, 3))\n",
        "plt.title(\"Fungsi Keanggotaan Kualitas Servis\")\n",
        "\n",
        "plt.plot(range(101), [fuzzy_kualitas(x)['Sangat Jelek'] for x in range(101)], 'y')\n",
        "plt.plot(range(101), [fuzzy_kualitas(x)['Jelek'] for x in range(101)], 'r')\n",
        "plt.plot(range(101), [fuzzy_kualitas(x)['Baik'] for x in range(101)], 'g')\n",
        "plt.plot(range(101), [fuzzy_kualitas(x)['Sangat Baik'] for x in range(101)], 'b')\n",
        "\n",
        "plt.plot(0, 0, 'y', linewidth=1.5, label='Sangat Jelek')\n",
        "plt.plot(0, 0, 'r', linewidth=1.5, label='Jelek')\n",
        "plt.plot(0, 0, 'g', linewidth=1.5, label='Baik')\n",
        "plt.plot(0, 0, 'b', linewidth=1.5, label='Sangat Baik')\n",
        "\n",
        "plt.xticks(np.arange(0, 105, 5.0))\n",
        "plt.xlabel(\"value / x\")\n",
        "plt.legend()\n",
        "plt.show()"
      ],
      "metadata": {
        "colab": {
          "base_uri": "https://localhost:8080/",
          "height": 241
        },
        "id": "nWlBy3adb3Pg",
        "outputId": "0bd0d86c-4188-417e-c40f-13b949398577"
      },
      "execution_count": null,
      "outputs": [
        {
          "output_type": "display_data",
          "data": {
            "text/plain": [
              "<Figure size 864x216 with 1 Axes>"
            ],
            "image/png": "[encoded data removed]"
          },
          "metadata": {
            "needs_background": "light"
          }
        }
      ]
    },
    {
      "cell_type": "markdown",
      "source": [
        "Fungsi Keanggotaan Harga \n",
        "\n",
        "Misalkan nilai Harga adalah x\n",
        "\n",
        "*   x ≤ 3 diartikan sangat murah \n",
        "*   4 ≤ x  ≤ 6 diartikan normal \n",
        "*   7 ≤ x  ≤ 8 diartikan Mahal \n",
        "*   x ≥ 9 diartikan sangat mahal\n",
        "\n"
      ],
      "metadata": {
        "id": "IH6kqsRMhWJJ"
      }
    },
    {
      "cell_type": "code",
      "source": [
        "def harga(x) : \n",
        "  harga = {'Sangat murah' : 0, 'Normal' : 0, 'Mahal' : 0, 'Sangat Mahal' : 0}\n",
        "  a,b,c,d,e,f = 3,4,6,7,8,9\n",
        "  #Garis datar \n",
        "  if x <= a:\n",
        "      harga['Sangat murah'] = 1\n",
        "  if b <= x <= c:\n",
        "      harga['Normal'] = 1\n",
        "  if d <= x <= e:\n",
        "      harga['Mahal'] = 1\n",
        "  if x >= f:\n",
        "      harga['Sangat Mahal'] = 1\n",
        "  \n",
        "  #garis miring \n",
        "  if a < x <= b:\n",
        "        harga['Sangat murah'] = -(x - b) / (b - a)\n",
        "  if a < x < b:\n",
        "        harga['Normal'] = (x - a) / (b - a)\n",
        "  if c < x <= d:\n",
        "        harga['Normal'] = -(x - d) / (d - c)\n",
        "  if c < x < d:\n",
        "        harga['Mahal'] = (x - c) / (d - c)\n",
        "  if e < x < f:\n",
        "        harga['Mahal'] = -(x - f) / (f - e)\n",
        "  if e < x <= f:\n",
        "        harga['Sangat Mahal'] = (x - e) / (f - e)\n",
        "        \n",
        "  return harga\n",
        "\n"
      ],
      "metadata": {
        "id": "hpDCr-cNo5Dj"
      },
      "execution_count": null,
      "outputs": []
    },
    {
      "cell_type": "code",
      "source": [
        "plt.figure(figsize=(10, 3))\n",
        "plt.title(\"Fungsi Keanggotaan Harga\")\n",
        "\n",
        "plt.plot(range(11), [harga(x)['Sangat murah'] for x in range(11)], 'r')\n",
        "plt.plot(range(11), [harga(x)['Normal'] for x in range(11)], 'y')\n",
        "plt.plot(range(11), [harga(x)['Mahal'] for x in range(11)], 'g')\n",
        "plt.plot(range(11), [harga(x)['Sangat Mahal'] for x in range(11)], 'b')\n",
        "\n",
        "plt.plot(0, 0, 'r', linewidth=1.5, label='Sangat murah')\n",
        "plt.plot(0, 0, 'y', linewidth=1.5, label='Normal')\n",
        "plt.plot(0, 0, 'g', linewidth=1.5, label='Mahal')\n",
        "plt.plot(0, 0, 'b', linewidth=1.5, label='Sangat Mahal')\n",
        "\n",
        "plt.xticks(list(range(11)))\n",
        "plt.xlabel(\"value / x\")\n",
        "plt.legend()\n",
        "plt.show()"
      ],
      "metadata": {
        "colab": {
          "base_uri": "https://localhost:8080/",
          "height": 241
        },
        "id": "JlFeDxo0us6K",
        "outputId": "81d0aa47-d652-4f1f-e180-2c3ddc28988a"
      },
      "execution_count": null,
      "outputs": [
        {
          "output_type": "display_data",
          "data": {
            "text/plain": [
              "<Figure size 720x216 with 1 Axes>"
            ],
            "image/png": "[encoded data removed]"
          },
          "metadata": {
            "needs_background": "light"
          }
        }
      ]
    },
    {
      "cell_type": "markdown",
      "source": [
        "**Proses Fuzzifikasi**\n"
      ],
      "metadata": {
        "id": "gekWG6qkjzjw"
      }
    },
    {
      "cell_type": "code",
      "source": [
        "fuzzify = []\n",
        "\n",
        "for kualitas_beng, harga_beng in zip(data['servis'], data['harga']):\n",
        "    fuzzifyy = {'kualitas': 0, 'harga': 0}\n",
        "\n",
        "    fuzzifyy['kualitas'] = fuzzy_kualitas(kualitas_beng)\n",
        "    fuzzifyy['harga'] = harga(harga_beng)\n",
        "\n",
        "    fuzzify.append(fuzzifyy)"
      ],
      "metadata": {
        "id": "9d9PbLUC2ZsR"
      },
      "execution_count": null,
      "outputs": []
    },
    {
      "cell_type": "code",
      "source": [
        "print(\"Contoh Hasil Fuzzifikasi :\\n\")\n",
        "for i in range(0, 20, 2):\n",
        "    print(\"Kualitas :\", fuzzify[i]['kualitas'])\n",
        "    print(\"Harga   :\", fuzzify[i]['harga'], end=\"\\n\\n\")"
      ],
      "metadata": {
        "colab": {
          "base_uri": "https://localhost:8080/"
        },
        "id": "Y1qXsmFc4rE2",
        "outputId": "fae178d9-a98d-4ddb-dedd-1d324be14ecd"
      },
      "execution_count": null,
      "outputs": [
        {
          "output_type": "stream",
          "name": "stdout",
          "text": [
            "Contoh Hasil Fuzzifikasi :\n",
            "\n",
            "Kualitas : {'Sangat Jelek': 0, 'Jelek': 0.13333333333333333, 'Baik': 0.8666666666666667, 'Sangat Baik': 0}\n",
            "Harga   : {'Sangat murah': 0, 'Normal': 0.0, 'Mahal': 1, 'Sangat Mahal': 0}\n",
            "\n",
            "Kualitas : {'Sangat Jelek': 0, 'Jelek': 0, 'Baik': 0, 'Sangat Baik': 1}\n",
            "Harga   : {'Sangat murah': 1, 'Normal': 0, 'Mahal': 0, 'Sangat Mahal': 0}\n",
            "\n",
            "Kualitas : {'Sangat Jelek': 1, 'Jelek': 0, 'Baik': 0, 'Sangat Baik': 0}\n",
            "Harga   : {'Sangat murah': 0.0, 'Normal': 1, 'Mahal': 0, 'Sangat Mahal': 0}\n",
            "\n",
            "Kualitas : {'Sangat Jelek': 0, 'Jelek': 0, 'Baik': 1, 'Sangat Baik': 0}\n",
            "Harga   : {'Sangat murah': 0, 'Normal': 0, 'Mahal': 1, 'Sangat Mahal': 0}\n",
            "\n",
            "Kualitas : {'Sangat Jelek': 0, 'Jelek': 1, 'Baik': 0, 'Sangat Baik': 0}\n",
            "Harga   : {'Sangat murah': 1, 'Normal': 0, 'Mahal': 0, 'Sangat Mahal': 0}\n",
            "\n",
            "Kualitas : {'Sangat Jelek': 1, 'Jelek': 0, 'Baik': 0, 'Sangat Baik': 0}\n",
            "Harga   : {'Sangat murah': 0, 'Normal': 1, 'Mahal': 0, 'Sangat Mahal': 0}\n",
            "\n",
            "Kualitas : {'Sangat Jelek': 0, 'Jelek': 0, 'Baik': 0, 'Sangat Baik': 1.0}\n",
            "Harga   : {'Sangat murah': 1, 'Normal': 0, 'Mahal': 0, 'Sangat Mahal': 0}\n",
            "\n",
            "Kualitas : {'Sangat Jelek': 0, 'Jelek': 0, 'Baik': 0.2, 'Sangat Baik': 0.8}\n",
            "Harga   : {'Sangat murah': 0, 'Normal': 1, 'Mahal': 0, 'Sangat Mahal': 0}\n",
            "\n",
            "Kualitas : {'Sangat Jelek': 0, 'Jelek': 0, 'Baik': 1, 'Sangat Baik': 0}\n",
            "Harga   : {'Sangat murah': 1, 'Normal': 0, 'Mahal': 0, 'Sangat Mahal': 0}\n",
            "\n",
            "Kualitas : {'Sangat Jelek': 0, 'Jelek': 1, 'Baik': 0, 'Sangat Baik': 0}\n",
            "Harga   : {'Sangat murah': 1, 'Normal': 0, 'Mahal': 0, 'Sangat Mahal': 0}\n",
            "\n"
          ]
        }
      ]
    },
    {
      "cell_type": "markdown",
      "source": [
        "Inferensi \n",
        "\n",
        "Fuzzy Set Rules (Konjungsi)"
      ],
      "metadata": {
        "id": "ygmnEx9r95wJ"
      }
    },
    {
      "cell_type": "markdown",
      "source": [
        "![image.png](data:image/png;base64,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)"
      ],
      "metadata": {
        "id": "HXo7yd-Z_ueq"
      }
    },
    {
      "cell_type": "code",
      "source": [
        "#aturan inferensi\n",
        "set_rules = {\n",
        "    ('Sangat Jelek', 'Sangat murah') : 'Tidak Direkomendasikan',\n",
        "    ('Jelek', 'Sangat murah') : 'Tidak Direkomendasikan',\n",
        "    ('Baik', 'Sangat murah') : 'Direkomendasikan',\n",
        "    ('Sangat Baik', 'Sangat murah') : 'Sangat Direkomendasikan',\n",
        "    ('Sangat Jelek', 'Normal') : 'Tidak Direkomendasikan', \n",
        "    ('Jelek', 'Normal') : 'Tidak Direkomendasikan', \n",
        "    ('Baik','Normal') : 'Direkomendasikan',\n",
        "    ('Sangat Baik', 'Normal') :'Sangat Direkomendasikan', \n",
        "    ('Sangat Jelek', 'Mahal') : 'Tidak Direkomendasikan', \n",
        "    ('Jelek', 'Mahal') : 'Tidak Direkomendasikan', \n",
        "    ('Baik','Mahal') : 'Direkomendasikan',\n",
        "    ('Sangat Baik', 'Mahal') : 'Sangat Direkomendasikan', \n",
        "    ('Sangat Jelek', 'Sangat Mahal') : 'Tidak Direkomendasikan', \n",
        "    ('Jelek', 'Sangat Mahal') : 'Tidak Direkomendasikan', \n",
        "    ('Baik', 'Sangat Mahal') : 'Direkomendasikan',\n",
        "    ('Sangat Baik', 'Sangat Mahal') : 'Direkomendasikan',\n",
        "\n",
        "}"
      ],
      "metadata": {
        "id": "9Lc3xKfv-BZ7"
      },
      "execution_count": null,
      "outputs": []
    },
    {
      "cell_type": "code",
      "source": [
        "inference_result = []\n",
        "\n",
        "def inference(fuzzed):\n",
        "    result = {'Tidak Direkomendasikan': 0, \"Direkomendasikan\": 0, \"Sangat Direkomendasikan\": 0}\n",
        "\n",
        "    for kualitas in fuzzed['kualitas'].keys():\n",
        "        for harga in fuzzed['harga'].keys():\n",
        "            min_value = min(fuzzed['kualitas'][kualitas], fuzzed['harga'][harga])\n",
        "\n",
        "            # Proses Conjunction Sesuai Fuzzy Rules pada variabel fuzzy_set_rules\n",
        "            hasil = set_rules[(kualitas, harga)]\n",
        "\n",
        "            if min_value > result[hasil]:\n",
        "               result[hasil] = min_value\n",
        "\n",
        "    return result"
      ],
      "metadata": {
        "id": "jlToTd5XCOp3"
      },
      "execution_count": null,
      "outputs": []
    },
    {
      "cell_type": "code",
      "source": [
        "for fuzzed in fuzzify:\n",
        "    inference_result.append(inference(fuzzed))\n",
        "\n",
        "print(\"Contoh Hasil Inferensi :\\n\")\n",
        "for i in range(0, 40, 2):\n",
        "    print(inference_result[i])"
      ],
      "metadata": {
        "colab": {
          "base_uri": "https://localhost:8080/"
        },
        "id": "P6Qyw6zGCoOt",
        "outputId": "07d05d3b-7c26-412a-98ba-e8ee1dd5323c"
      },
      "execution_count": null,
      "outputs": [
        {
          "output_type": "stream",
          "name": "stdout",
          "text": [
            "Contoh Hasil Inferensi :\n",
            "\n",
            "{'Tidak Direkomendasikan': 0.13333333333333333, 'Direkomendasikan': 0.8666666666666667, 'Sangat Direkomendasikan': 0}\n",
            "{'Tidak Direkomendasikan': 0, 'Direkomendasikan': 0, 'Sangat Direkomendasikan': 1}\n",
            "{'Tidak Direkomendasikan': 1, 'Direkomendasikan': 0, 'Sangat Direkomendasikan': 0}\n",
            "{'Tidak Direkomendasikan': 0, 'Direkomendasikan': 1, 'Sangat Direkomendasikan': 0}\n",
            "{'Tidak Direkomendasikan': 1, 'Direkomendasikan': 0, 'Sangat Direkomendasikan': 0}\n",
            "{'Tidak Direkomendasikan': 1, 'Direkomendasikan': 0, 'Sangat Direkomendasikan': 0}\n",
            "{'Tidak Direkomendasikan': 0, 'Direkomendasikan': 0, 'Sangat Direkomendasikan': 1.0}\n",
            "{'Tidak Direkomendasikan': 0, 'Direkomendasikan': 0.2, 'Sangat Direkomendasikan': 0.8}\n",
            "{'Tidak Direkomendasikan': 0, 'Direkomendasikan': 1, 'Sangat Direkomendasikan': 0}\n",
            "{'Tidak Direkomendasikan': 1, 'Direkomendasikan': 0, 'Sangat Direkomendasikan': 0}\n",
            "{'Tidak Direkomendasikan': 0.8, 'Direkomendasikan': 0.2, 'Sangat Direkomendasikan': 0}\n",
            "{'Tidak Direkomendasikan': 1, 'Direkomendasikan': 0, 'Sangat Direkomendasikan': 0}\n",
            "{'Tidak Direkomendasikan': 0, 'Direkomendasikan': 1, 'Sangat Direkomendasikan': 0}\n",
            "{'Tidak Direkomendasikan': 0.06666666666666667, 'Direkomendasikan': 0.9333333333333333, 'Sangat Direkomendasikan': 0}\n",
            "{'Tidak Direkomendasikan': 1, 'Direkomendasikan': 0, 'Sangat Direkomendasikan': 0}\n",
            "{'Tidak Direkomendasikan': 0, 'Direkomendasikan': 0.6, 'Sangat Direkomendasikan': 0}\n",
            "{'Tidak Direkomendasikan': 1, 'Direkomendasikan': 0, 'Sangat Direkomendasikan': 0}\n",
            "{'Tidak Direkomendasikan': 1, 'Direkomendasikan': 0, 'Sangat Direkomendasikan': 0}\n",
            "{'Tidak Direkomendasikan': 1, 'Direkomendasikan': 0, 'Sangat Direkomendasikan': 0}\n",
            "{'Tidak Direkomendasikan': 0.5333333333333333, 'Direkomendasikan': 0.4666666666666667, 'Sangat Direkomendasikan': 0}\n"
          ]
        }
      ]
    },
    {
      "cell_type": "markdown",
      "source": [
        "**DEFUZZIFIKASI**"
      ],
      "metadata": {
        "id": "Y8_i3zmvDi-3"
      }
    },
    {
      "cell_type": "code",
      "source": [
        "plt.figure(figsize=(8, 3))\n",
        "plt.title(\"Sugeno Model Singleton\")\n",
        "\n",
        "plt.plot([40, 40], [0, 1], label=\"Tidak Direkomendasikan\")\n",
        "plt.plot([70, 70], [0, 1], label=\"Direkomendasikan\")\n",
        "plt.plot([100, 100], [0, 1], label=\"Sangat Direkomendasikan\")\n",
        "plt.xticks(np.arange(0, 110, 10.0))\n",
        "plt.legend()\n",
        "plt.show()"
      ],
      "metadata": {
        "colab": {
          "base_uri": "https://localhost:8080/",
          "height": 227
        },
        "id": "BP1TSsz5DmG2",
        "outputId": "2f72154c-c99d-44a6-d4ee-69c1b46a8808"
      },
      "execution_count": null,
      "outputs": [
        {
          "output_type": "display_data",
          "data": {
            "text/plain": [
              "<Figure size 576x216 with 1 Axes>"
            ],
            "image/png": "[encoded data removed]"
          },
          "metadata": {
            "needs_background": "light"
          }
        }
      ]
    },
    {
      "cell_type": "code",
      "source": [
        "deffuzy = {'Tidak Direkomendasikan': 40, \"Direkomendasikan\": 70, \"Sangat Direkomendasikan\": 100}\n",
        "\n",
        "def defuzzification(inference, deffuzy):\n",
        "    numerator, denominator = 0, 0\n",
        "    \n",
        "    for output in deffuzy.keys():\n",
        "        numerator += inference[output] * deffuzy[output]\n",
        "        denominator += inference[output]\n",
        "        \n",
        "    return numerator/denominator\n",
        "\n",
        "final = []\n",
        "\n",
        "for inference in inference_result:\n",
        "    final.append(defuzzification(inference, deffuzy))"
      ],
      "metadata": {
        "id": "9qkMUpAnEQMM"
      },
      "execution_count": null,
      "outputs": []
    },
    {
      "cell_type": "code",
      "source": [
        "print(\"Contoh Hasil Defuzifikasi:\\n\")\n",
        "for i in range(0, 40, 5):\n",
        "    print(f'Data Ke-{i+1} = {final[i]}')"
      ],
      "metadata": {
        "colab": {
          "base_uri": "https://localhost:8080/"
        },
        "id": "rldIwt5LEVbY",
        "outputId": "8fce7bdb-48b0-4b4f-e749-226bcd5dede4"
      },
      "execution_count": null,
      "outputs": [
        {
          "output_type": "stream",
          "name": "stdout",
          "text": [
            "Contoh Hasil Defuzifikasi:\n",
            "\n",
            "Data Ke-1 = 66.0\n",
            "Data Ke-6 = 68.0\n",
            "Data Ke-11 = 40.0\n",
            "Data Ke-16 = 100.0\n",
            "Data Ke-21 = 46.0\n",
            "Data Ke-26 = 40.0\n",
            "Data Ke-31 = 70.0\n",
            "Data Ke-36 = 40.0\n"
          ]
        }
      ]
    },
    {
      "cell_type": "markdown",
      "source": [
        "**HASIL**"
      ],
      "metadata": {
        "id": "wRLaZ7JxEX-c"
      }
    },
    {
      "cell_type": "code",
      "source": [
        "data['result'] = final\n",
        "data = data.sort_values(by='result', ascending=False)[:10]\n",
        "\n",
        "data['id'].to_excel('peringkat.xls', index=False, header=False)  \n",
        "data"
      ],
      "metadata": {
        "colab": {
          "base_uri": "https://localhost:8080/",
          "height": 420
        },
        "id": "RSmWTODtEXqv",
        "outputId": "17671367-486e-4ba0-f88f-03129d7a293b"
      },
      "execution_count": null,
      "outputs": [
        {
          "output_type": "stream",
          "name": "stderr",
          "text": [
            "/usr/local/lib/python3.7/dist-packages/ipykernel_launcher.py:4: FutureWarning: As the xlwt package is no longer maintained, the xlwt engine will be removed in a future version of pandas. This is the only engine in pandas that supports writing in the xls format. Install openpyxl and write to an xlsx file instead. You can set the option io.excel.xls.writer to 'xlwt' to silence this warning. While this option is deprecated and will also raise a warning, it can be globally set and the warning suppressed.\n",
            "  after removing the cwd from sys.path.\n"
          ]
        },
        {
          "output_type": "execute_result",
          "data": {
            "text/plain": [
              "    id  servis  harga  result\n",
              "12  13      80      3   100.0\n",
              "2    3      98      2   100.0\n",
              "51  52      94      3   100.0\n",
              "33  34      93      4   100.0\n",
              "91  92      83      3   100.0\n",
              "90  91      98      3   100.0\n",
              "15  16      82      6   100.0\n",
              "59  60      79      6    97.0\n",
              "69  70      78      8    94.0\n",
              "62  63      78      7    94.0"
            ],
            "text/html": [
              "\n",
              "  <div id=\"df-a61f2801-f53f-44a7-9acc-1be11b9c17b3\">\n",
              "    <div class=\"colab-df-container\">\n",
              "      <div>\n",
              "<style scoped>\n",
              "    .dataframe tbody tr th:only-of-type {\n",
              "        vertical-align: middle;\n",
              "    }\n",
              "\n",
              "    .dataframe tbody tr th {\n",
              "        vertical-align: top;\n",
              "    }\n",
              "\n",
              "    .dataframe thead th {\n",
              "        text-align: right;\n",
              "    }\n",
              "</style>\n",
              "<table border=\"1\" class=\"dataframe\">\n",
              "  <thead>\n",
              "    <tr style=\"text-align: right;\">\n",
              "      <th></th>\n",
              "      <th>id</th>\n",
              "      <th>servis</th>\n",
              "      <th>harga</th>\n",
              "      <th>result</th>\n",
              "    </tr>\n",
              "  </thead>\n",
              "  <tbody>\n",
              "    <tr>\n",
              "      <th>12</th>\n",
              "      <td>13</td>\n",
              "      <td>80</td>\n",
              "      <td>3</td>\n",
              "      <td>100.0</td>\n",
              "    </tr>\n",
              "    <tr>\n",
              "      <th>2</th>\n",
              "      <td>3</td>\n",
              "      <td>98</td>\n",
              "      <td>2</td>\n",
              "      <td>100.0</td>\n",
              "    </tr>\n",
              "    <tr>\n",
              "      <th>51</th>\n",
              "      <td>52</td>\n",
              "      <td>94</td>\n",
              "      <td>3</td>\n",
              "      <td>100.0</td>\n",
              "    </tr>\n",
              "    <tr>\n",
              "      <th>33</th>\n",
              "      <td>34</td>\n",
              "      <td>93</td>\n",
              "      <td>4</td>\n",
              "      <td>100.0</td>\n",
              "    </tr>\n",
              "    <tr>\n",
              "      <th>91</th>\n",
              "      <td>92</td>\n",
              "      <td>83</td>\n",
              "      <td>3</td>\n",
              "      <td>100.0</td>\n",
              "    </tr>\n",
              "    <tr>\n",
              "      <th>90</th>\n",
              "      <td>91</td>\n",
              "      <td>98</td>\n",
              "      <td>3</td>\n",
              "      <td>100.0</td>\n",
              "    </tr>\n",
              "    <tr>\n",
              "      <th>15</th>\n",
              "      <td>16</td>\n",
              "      <td>82</td>\n",
              "      <td>6</td>\n",
              "      <td>100.0</td>\n",
              "    </tr>\n",
              "    <tr>\n",
              "      <th>59</th>\n",
              "      <td>60</td>\n",
              "      <td>79</td>\n",
              "      <td>6</td>\n",
              "      <td>97.0</td>\n",
              "    </tr>\n",
              "    <tr>\n",
              "      <th>69</th>\n",
              "      <td>70</td>\n",
              "      <td>78</td>\n",
              "      <td>8</td>\n",
              "      <td>94.0</td>\n",
              "    </tr>\n",
              "    <tr>\n",
              "      <th>62</th>\n",
              "      <td>63</td>\n",
              "      <td>78</td>\n",
              "      <td>7</td>\n",
              "      <td>94.0</td>\n",
              "    </tr>\n",
              "  </tbody>\n",
              "</table>\n",
              "</div>\n",
              "      <button class=\"colab-df-convert\" onclick=\"convertToInteractive('df-a61f2801-f53f-44a7-9acc-1be11b9c17b3')\"\n",
              "              title=\"Convert this dataframe to an interactive table.\"\n",
              "              style=\"display:none;\">\n",
              "        \n",
              "  <svg xmlns=\"http://www.w3.org/2000/svg\" height=\"24px\"viewBox=\"0 0 24 24\"\n",
              "       width=\"24px\">\n",
              "    <path d=\"M0 0h24v24H0V0z\" fill=\"none\"/>\n",
              "    <path d=\"M18.56 5.44l.94 2.06.94-2.06 2.06-.94-2.06-.94-.94-2.06-.94 2.06-2.06.94zm-11 1L8.5 8.5l.94-2.06 2.06-.94-2.06-.94L8.5 2.5l-.94 2.06-2.06.94zm10 10l.94 2.06.94-2.06 2.06-.94-2.06-.94-.94-2.06-.94 2.06-2.06.94z\"/><path d=\"M17.41 7.96l-1.37-1.37c-.4-.4-.92-.59-1.43-.59-.52 0-1.04.2-1.43.59L10.3 9.45l-7.72 7.72c-.78.78-.78 2.05 0 2.83L4 21.41c.39.39.9.59 1.41.59.51 0 1.02-.2 1.41-.59l7.78-7.78 2.81-2.81c.8-.78.8-2.07 0-2.86zM5.41 20L4 18.59l7.72-7.72 1.47 1.35L5.41 20z\"/>\n",
              "  </svg>\n",
              "      </button>\n",
              "      \n",
              "  <style>\n",
              "    .colab-df-container {\n",
              "      display:flex;\n",
              "      flex-wrap:wrap;\n",
              "      gap: 12px;\n",
              "    }\n",
              "\n",
              "    .colab-df-convert {\n",
              "      background-color: #E8F0FE;\n",
              "      border: none;\n",
              "      border-radius: 50%;\n",
              "      cursor: pointer;\n",
              "      display: none;\n",
              "      fill: #1967D2;\n",
              "      height: 32px;\n",
              "      padding: 0 0 0 0;\n",
              "      width: 32px;\n",
              "    }\n",
              "\n",
              "    .colab-df-convert:hover {\n",
              "      background-color: #E2EBFA;\n",
              "      box-shadow: 0px 1px 2px rgba(60, 64, 67, 0.3), 0px 1px 3px 1px rgba(60, 64, 67, 0.15);\n",
              "      fill: #174EA6;\n",
              "    }\n",
              "\n",
              "    [theme=dark] .colab-df-convert {\n",
              "      background-color: #3B4455;\n",
              "      fill: #D2E3FC;\n",
              "    }\n",
              "\n",
              "    [theme=dark] .colab-df-convert:hover {\n",
              "      background-color: #434B5C;\n",
              "      box-shadow: 0px 1px 3px 1px rgba(0, 0, 0, 0.15);\n",
              "      filter: drop-shadow(0px 1px 2px rgba(0, 0, 0, 0.3));\n",
              "      fill: #FFFFFF;\n",
              "    }\n",
              "  </style>\n",
              "\n",
              "      <script>\n",
              "        const buttonEl =\n",
              "          document.querySelector('#df-a61f2801-f53f-44a7-9acc-1be11b9c17b3 button.colab-df-convert');\n",
              "        buttonEl.style.display =\n",
              "          google.colab.kernel.accessAllowed ? 'block' : 'none';\n",
              "\n",
              "        async function convertToInteractive(key) {\n",
              "          const element = document.querySelector('#df-a61f2801-f53f-44a7-9acc-1be11b9c17b3');\n",
              "          const dataTable =\n",
              "            await google.colab.kernel.invokeFunction('convertToInteractive',\n",
              "                                                     [key], {});\n",
              "          if (!dataTable) return;\n",
              "\n",
              "          const docLinkHtml = 'Like what you see? Visit the ' +\n",
              "            '<a target=\"_blank\" href=https://colab.research.google.com/notebooks/data_table.ipynb>data table notebook</a>'\n",
              "            + ' to learn more about interactive tables.';\n",
              "          element.innerHTML = '';\n",
              "          dataTable['output_type'] = 'display_data';\n",
              "          await google.colab.output.renderOutput(dataTable, element);\n",
              "          const docLink = document.createElement('div');\n",
              "          docLink.innerHTML = docLinkHtml;\n",
              "          element.appendChild(docLink);\n",
              "        }\n",
              "      </script>\n",
              "    </div>\n",
              "  </div>\n",
              "  "
            ]
          },
          "metadata": {},
          "execution_count": 15
        }
      ]
    }
  ]
}